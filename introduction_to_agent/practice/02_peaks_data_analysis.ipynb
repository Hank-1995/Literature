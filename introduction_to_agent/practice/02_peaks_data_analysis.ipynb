{
  "cells": [
    {
      "cell_type": "markdown",
      "metadata": {},
      "source": [
        "# Genomic Peaks Data Analysis\n",
        "**AI Agent Workshop Practice: Data Processing and Visualization**\n",
        "\n",
        "This notebook demonstrates how to process genomic peaks CSV data and generate various charts using Python.\n",
        "\n",
        "## Learning Objectives\n",
        "- Load and analyze CSV data with pandas\n",
        "- Create different types of charts with matplotlib and seaborn\n",
        "- Perform basic statistical analysis\n",
        "- Generate publication-ready visualizations\n",
        "\n",
        "## Dataset\n",
        "We'll analyze genomic peaks data including:\n",
        "- Chromosome locations\n",
        "- Peak scores\n",
        "- Annotation types (promoter, enhancer)\n",
        "- Genomic coordinates\n"
      ]
    },
    {
      "cell_type": "code",
      "execution_count": null,
      "metadata": {},
      "outputs": [],
      "source": [
        "# Import required libraries\n",
        "import pandas as pd\n",
        "import matplotlib.pyplot as plt\n",
        "import seaborn as sns\n",
        "import numpy as np\n",
        "from pathlib import Path\n",
        "import warnings\n",
        "warnings.filterwarnings('ignore')\n",
        "\n",
        "# Set up plotting style\n",
        "plt.style.use('default')\n",
        "sns.set_palette(\"husl\")\n",
        "%matplotlib inline\n",
        "\n",
        "print(\"📊 Libraries imported successfully!\")\n",
        "print(\"Ready to analyze genomic peaks data!\")\n"
      ]
    },
    {
      "cell_type": "code",
      "execution_count": null,
      "metadata": {},
      "outputs": [],
      "source": [
        "# Load the genomic peaks data\n",
        "data_path = '../data/example_peaks.csv'\n",
        "df = pd.read_csv(data_path)\n",
        "\n",
        "print(\"🧬 GENOMIC PEAKS DATA LOADED\")\n",
        "print(\"=\" * 40)\n",
        "print(f\"Shape: {df.shape}\")\n",
        "print(f\"Columns: {list(df.columns)}\")\n",
        "print(\"\\nFirst few rows:\")\n",
        "df.head()\n"
      ]
    },
    {
      "cell_type": "code",
      "execution_count": null,
      "metadata": {},
      "outputs": [],
      "source": []
    }
  ],
  "metadata": {
    "language_info": {
      "name": "python"
    }
  },
  "nbformat": 4,
  "nbformat_minor": 2
}
