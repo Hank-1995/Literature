{
  "cells": [
    {
      "cell_type": "markdown",
      "metadata": {},
      "source": [
        "# AI Agent Basics - Practice Notebook\n",
        "\n",
        "This notebook provides hands-on practice with AI agent fundamentals.\n",
        "\n",
        "## Learning Objectives\n",
        "- Understand the difference between AI agents and chatbots\n",
        "- Practice basic AI agent operations\n",
        "- Experience seamless workflow without context switching\n",
        "\n",
        "## Prerequisites\n",
        "- AI agent access (GitHub Copilot, ChatGPT, or similar)\n",
        "- Basic Python knowledge\n",
        "- Text editor or IDE\n"
      ]
    },
    {
      "cell_type": "markdown",
      "metadata": {},
      "source": [
        "## Exercise 1: File Operations with AI Agents\n",
        "\n",
        "In this exercise, you'll practice using AI agents for file management and document processing.\n"
      ]
    },
    {
      "cell_type": "code",
      "execution_count": null,
      "metadata": {},
      "outputs": [],
      "source": [
        "# Exercise 1.1: Create a research project structure\n",
        "# Ask your AI agent to create a folder structure for your research project\n",
        "# Include subfolders for: literature, data, analysis, outputs\n",
        "\n",
        "import os\n",
        "import json\n",
        "\n",
        "# TODO: Use AI agent to generate code for creating research folder structure\n",
        "# Expected structure:\n",
        "# research_project/\n",
        "# ├── literature/\n",
        "# ├── data/\n",
        "# ├── analysis/\n",
        "# └── outputs/\n",
        "\n",
        "# Your code here:\n"
      ]
    }
  ],
  "metadata": {
    "language_info": {
      "name": "python"
    }
  },
  "nbformat": 4,
  "nbformat_minor": 2
}
